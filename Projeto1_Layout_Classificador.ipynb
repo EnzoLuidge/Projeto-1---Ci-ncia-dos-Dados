{
 "cells": [
  {
   "cell_type": "markdown",
   "metadata": {},
   "source": [
    "# Projeto 1 - Ciência dos Dados"
   ]
  },
  {
   "cell_type": "markdown",
   "metadata": {},
   "source": [
    "Nome: Enzo Luidge\n",
    "\n",
    "Nome: Thiago Teixeira"
   ]
  },
  {
   "cell_type": "markdown",
   "metadata": {},
   "source": [
    "Atenção: Serão permitidos grupos de três pessoas, mas com uma rubrica mais exigente. Grupos deste tamanho precisarão fazer um questionário de avaliação de trabalho em equipe"
   ]
  },
  {
   "cell_type": "markdown",
   "metadata": {},
   "source": [
    "___\n",
    "Carregando algumas bibliotecas:"
   ]
  },
  {
   "cell_type": "code",
   "execution_count": 9,
   "metadata": {},
   "outputs": [],
   "source": [
    "%matplotlib inline\n",
    "import pandas as pd\n",
    "import matplotlib.pyplot as plt\n",
    "import numpy as np\n",
    "import os"
   ]
  },
  {
   "cell_type": "code",
   "execution_count": 10,
   "metadata": {
    "scrolled": false
   },
   "outputs": [
    {
     "name": "stdout",
     "output_type": "stream",
     "text": [
      "Esperamos trabalhar no diretório\n",
      "C:\\Users\\tynam\\OneDrive\\Documentos\\Cdados\\projeto 1\n"
     ]
    }
   ],
   "source": [
    "print('Esperamos trabalhar no diretório')\n",
    "print(os.getcwd())"
   ]
  },
  {
   "cell_type": "markdown",
   "metadata": {},
   "source": [
    "Carregando a base de dados com os tweets classificados como relevantes e não relevantes:"
   ]
  },
  {
   "cell_type": "code",
   "execution_count": 11,
   "metadata": {},
   "outputs": [],
   "source": [
    "filename = 'Calamidade.xlsx'"
   ]
  },
  {
   "cell_type": "code",
   "execution_count": 12,
   "metadata": {},
   "outputs": [
    {
     "data": {
      "text/html": [
       "<div>\n",
       "<style scoped>\n",
       "    .dataframe tbody tr th:only-of-type {\n",
       "        vertical-align: middle;\n",
       "    }\n",
       "\n",
       "    .dataframe tbody tr th {\n",
       "        vertical-align: top;\n",
       "    }\n",
       "\n",
       "    .dataframe thead th {\n",
       "        text-align: right;\n",
       "    }\n",
       "</style>\n",
       "<table border=\"1\" class=\"dataframe\">\n",
       "  <thead>\n",
       "    <tr style=\"text-align: right;\">\n",
       "      <th></th>\n",
       "      <th>Treinamento</th>\n",
       "      <th>Relevancia</th>\n",
       "    </tr>\n",
       "  </thead>\n",
       "  <tbody>\n",
       "    <tr>\n",
       "      <th>0</th>\n",
       "      <td>não vai ter reprise hojeeeeeeeeee??? #calamidade</td>\n",
       "      <td>0</td>\n",
       "    </tr>\n",
       "    <tr>\n",
       "      <th>1</th>\n",
       "      <td>agatha tá de novo visu, mas a linguinha já é m...</td>\n",
       "      <td>0</td>\n",
       "    </tr>\n",
       "    <tr>\n",
       "      <th>2</th>\n",
       "      <td>o chat tá dizendo que vai ter, então vai ter n...</td>\n",
       "      <td>0</td>\n",
       "    </tr>\n",
       "    <tr>\n",
       "      <th>3</th>\n",
       "      <td>tive q fazer akkzkskkskak \\ncarina conhecendo ...</td>\n",
       "      <td>0</td>\n",
       "    </tr>\n",
       "    <tr>\n",
       "      <th>4</th>\n",
       "      <td>a abertura de calamidade ta tao tao tao tao fo...</td>\n",
       "      <td>1</td>\n",
       "    </tr>\n",
       "  </tbody>\n",
       "</table>\n",
       "</div>"
      ],
      "text/plain": [
       "                                         Treinamento  Relevancia\n",
       "0   não vai ter reprise hojeeeeeeeeee??? #calamidade           0\n",
       "1  agatha tá de novo visu, mas a linguinha já é m...           0\n",
       "2  o chat tá dizendo que vai ter, então vai ter n...           0\n",
       "3  tive q fazer akkzkskkskak \\ncarina conhecendo ...           0\n",
       "4  a abertura de calamidade ta tao tao tao tao fo...           1"
      ]
     },
     "execution_count": 12,
     "metadata": {},
     "output_type": "execute_result"
    }
   ],
   "source": [
    "train = pd.read_excel(filename)\n",
    "train.head(5)"
   ]
  },
  {
   "cell_type": "code",
   "execution_count": 13,
   "metadata": {},
   "outputs": [
    {
     "data": {
      "text/html": [
       "<div>\n",
       "<style scoped>\n",
       "    .dataframe tbody tr th:only-of-type {\n",
       "        vertical-align: middle;\n",
       "    }\n",
       "\n",
       "    .dataframe tbody tr th {\n",
       "        vertical-align: top;\n",
       "    }\n",
       "\n",
       "    .dataframe thead th {\n",
       "        text-align: right;\n",
       "    }\n",
       "</style>\n",
       "<table border=\"1\" class=\"dataframe\">\n",
       "  <thead>\n",
       "    <tr style=\"text-align: right;\">\n",
       "      <th></th>\n",
       "      <th>Teste</th>\n",
       "      <th>Relevancia</th>\n",
       "    </tr>\n",
       "  </thead>\n",
       "  <tbody>\n",
       "    <tr>\n",
       "      <th>0</th>\n",
       "      <td>#calamidade kkkkkkkkkkkkkkkkkkkkk carina mafio...</td>\n",
       "      <td>0</td>\n",
       "    </tr>\n",
       "    <tr>\n",
       "      <th>1</th>\n",
       "      <td>reassistindo o episódio, anotando várias coisa...</td>\n",
       "      <td>0</td>\n",
       "    </tr>\n",
       "    <tr>\n",
       "      <th>2</th>\n",
       "      <td>spoilerzinha da minha oc de ordem paranormal 🤭...</td>\n",
       "      <td>0</td>\n",
       "    </tr>\n",
       "    <tr>\n",
       "      <th>3</th>\n",
       "      <td>avisa que são eles!!! #calamidadefanart #calam...</td>\n",
       "      <td>0</td>\n",
       "    </tr>\n",
       "    <tr>\n",
       "      <th>4</th>\n",
       "      <td>sobre #calamidade ninguém tá se perguntando qu...</td>\n",
       "      <td>0</td>\n",
       "    </tr>\n",
       "  </tbody>\n",
       "</table>\n",
       "</div>"
      ],
      "text/plain": [
       "                                               Teste  Relevancia\n",
       "0  #calamidade kkkkkkkkkkkkkkkkkkkkk carina mafio...           0\n",
       "1  reassistindo o episódio, anotando várias coisa...           0\n",
       "2  spoilerzinha da minha oc de ordem paranormal 🤭...           0\n",
       "3  avisa que são eles!!! #calamidadefanart #calam...           0\n",
       "4  sobre #calamidade ninguém tá se perguntando qu...           0"
      ]
     },
     "execution_count": 13,
     "metadata": {},
     "output_type": "execute_result"
    }
   ],
   "source": [
    "test = pd.read_excel(filename, sheet_name = 'Teste')\n",
    "test.head(5)"
   ]
  },
  {
   "cell_type": "markdown",
   "metadata": {},
   "source": [
    "___\n",
    "## Classificador automático de sentimento\n"
   ]
  },
  {
   "cell_type": "markdown",
   "metadata": {},
   "source": [
    "Nosso produto é a série de RPG Ordem Paranormal: Calamidade, que acontece aos sábados na Twitch, no canal Cellbit. Como essa temporada começou recentemente, atingindo mais de 120 mil espectadores ao vivo logo no primeiro episódio, achamos se tratar de um produto interessante para a classificação de tweets.\n",
    "\n",
    "Classificação: nossa classificação foi feita considerando como \"relevante\" tweets que continham opiniões, reclamações e apontamentos sobre a série, classificando como \"irrelevante\" todo o resto."
   ]
  },
  {
   "cell_type": "markdown",
   "metadata": {},
   "source": [
    "___\n",
    "### Montando um Classificador Naive-Bayes\n",
    "\n",
    "Considerando apenas as mensagens da planilha Treinamento, ensine  seu classificador."
   ]
  },
  {
   "cell_type": "code",
   "execution_count": 14,
   "metadata": {},
   "outputs": [
    {
     "name": "stdout",
     "output_type": "stream",
     "text": [
      "Requirement already satisfied: emoji in c:\\users\\tynam\\anaconda3\\lib\\site-packages (1.4.2)\n"
     ]
    }
   ],
   "source": [
    "! pip install emoji\n",
    "import emoji  #importando a biblioteca emoji para tratar os emojis dos tweets"
   ]
  },
  {
   "cell_type": "code",
   "execution_count": 15,
   "metadata": {},
   "outputs": [
    {
     "name": "stdout",
     "output_type": "stream",
     "text": [
      "hello world i love calamidade hahahaha yes zippermouth_face zippermouth_face zippermouth_face\n"
     ]
    }
   ],
   "source": [
    "def cleanup(text):\n",
    "    \n",
    "    text = emoji.demojize(text, delimiters=(' ',' ')) #ttransforma os emojis em palavras, sendo possível tratá-los\n",
    "    text_subbed = \"\".join(u for u in text if u not in (\"?\", \".\", \";\", \":\", \"!\",'\"',\"'\",\"-\",\"\\n\",\"#\",\"(\",\")\",\"[\",\"]\",\",\"))\n",
    "    stopwords = ['a','que','o','e','se','da','em','com', 'do','q', 'de','pra'] #para a limpeza das stopwords mais comuns\n",
    "    \n",
    "    text_subbed = text_subbed.split() #separa todas as palavras em uma lista\n",
    "    \n",
    "    text_list = []\n",
    "    for i in text_subbed: \n",
    "        if not ('https' in i) and not ('@' in i) and not (i in stopwords): #exclui links, nomes de perfis e stopwords\n",
    "            text_list.append(i)\n",
    "    \n",
    "    text_final = ' '.join(text_list) #junta as palavras separando por espaço, corrigindo espaços duplos\n",
    "    return text_final.lower()\n",
    "\n",
    "string = 'Hello World! I LOVE #CALAMIDADE,   HAHAHAHA\\n YES 🤐🤐🤐'\n",
    "\n",
    "print(cleanup(string))"
   ]
  },
  {
   "cell_type": "code",
   "execution_count": 16,
   "metadata": {},
   "outputs": [],
   "source": [
    "#Conjunto de todas as palavras:\n",
    "todas_palavras = ' '.join(train.Treinamento)\n",
    "todas_palavras = cleanup(todas_palavras)\n",
    "todas_palavras = todas_palavras.split()\n",
    "serie_todas_palavras = pd.Series(todas_palavras)\n",
    "tabela_todas_palavras = serie_todas_palavras.value_counts() #Sem normalizar os valores, para a suavização Laplace depois\n",
    "\n",
    "#Conjunto de palavras dos Tweets relevantes:\n",
    "relevantes = ' '.join(train.Treinamento[train.Relevancia==1])\n",
    "relevantes = cleanup(relevantes)\n",
    "relevantes = relevantes.split()\n",
    "serie_relevantes = pd.Series(relevantes)\n",
    "tabela_relevantes = serie_relevantes.value_counts()\n",
    "\n",
    "#Conjunto de palavras dos Tweets irrelevantes:\n",
    "irrelevantes = ' '.join(train.Treinamento[train.Relevancia==0])\n",
    "irrelevantes = cleanup(irrelevantes)\n",
    "irrelevantes = irrelevantes.split()\n",
    "serie_irrelevantes = pd.Series(irrelevantes)\n",
    "tabela_irrelevantes = serie_irrelevantes.value_counts()"
   ]
  },
  {
   "cell_type": "markdown",
   "metadata": {},
   "source": [
    "***R***: Relevantes\n",
    "\n",
    "***I***: Irrelevantes"
   ]
  },
  {
   "cell_type": "code",
   "execution_count": 17,
   "metadata": {},
   "outputs": [
    {
     "data": {
      "text/plain": [
       "1.0"
      ]
     },
     "execution_count": 17,
     "metadata": {},
     "output_type": "execute_result"
    }
   ],
   "source": [
    "probR = len(relevantes)/len(todas_palavras)\n",
    "probI = len(irrelevantes)/len(todas_palavras)\n",
    "\n",
    "probR+probI"
   ]
  },
  {
   "cell_type": "code",
   "execution_count": 18,
   "metadata": {},
   "outputs": [],
   "source": [
    "def classificador(Tweet): #Função do classificador\n",
    "    Tweet = cleanup(Tweet)\n",
    "    \n",
    "    probTweetDadoR = 1\n",
    "    probTweetDadoI = 1\n",
    "\n",
    "    for palavra in Tweet.split(): #Com suavização Laplace\n",
    "        if palavra in relevantes:\n",
    "            probTweetDadoR = probTweetDadoR*((tabela_relevantes[palavra]+1)/(len(tabela_relevantes)+len(tabela_todas_palavras)))\n",
    "        else:\n",
    "            probTweetDadoR = probTweetDadoR*(1/len(tabela_todas_palavras))\n",
    "\n",
    "\n",
    "        if palavra in irrelevantes:\n",
    "            probTweetDadoI = probTweetDadoI*((tabela_irrelevantes[palavra]+1)/(len(tabela_irrelevantes)+len(tabela_todas_palavras)))\n",
    "        else:\n",
    "            probTweetDadoI = probTweetDadoI*(1/len(tabela_todas_palavras))\n",
    "            \n",
    "    probRdadoTweet = probTweetDadoR*probR\n",
    "    probIdadoTweet = probTweetDadoI*probI\n",
    "\n",
    "    if probRdadoTweet > probIdadoTweet:\n",
    "        return 1 #Relevante\n",
    "    else:\n",
    "        return 0 #Irrelevante"
   ]
  },
  {
   "cell_type": "markdown",
   "metadata": {},
   "source": [
    "___\n",
    "### Verificando a performance do Classificador\n",
    "\n",
    "Agora você deve testar o seu classificador com a base de Testes."
   ]
  },
  {
   "cell_type": "code",
   "execution_count": 19,
   "metadata": {
    "scrolled": false
   },
   "outputs": [
    {
     "name": "stdout",
     "output_type": "stream",
     "text": [
      "Verdadeiros positivos: 12.5%\n",
      "Verdadeiros negativos: 63.0%\n",
      "Falsos positivos: 19.5%\n",
      "Falsos negativos: 5.0%\n",
      "Acurácia: 75.5%\n"
     ]
    }
   ],
   "source": [
    "for tweet in test.Teste:\n",
    "    if classificador(tweet) == 1:\n",
    "        test.loc[test.Teste==tweet,'Classificador'] = 1\n",
    "    else:\n",
    "        test.loc[test.Teste==tweet,'Classificador'] = 0\n",
    "    \n",
    "v_positivos = (len(test.loc[(test.Classificador==1)&(test.Relevancia==1),:])/len(test))\n",
    "v_negativos = (len(test.loc[(test.Classificador==0)&(test.Relevancia==0),:])/len(test))\n",
    "f_positivos = (len(test.loc[(test.Classificador==1)&(test.Relevancia==0),:])/len(test))\n",
    "f_negativos = (len(test.loc[(test.Classificador==0)&(test.Relevancia==1),:])/len(test))\n",
    "\n",
    "print('Verdadeiros positivos: {0}%'.format(v_positivos*100))\n",
    "print('Verdadeiros negativos: {0}%'.format(v_negativos*100))\n",
    "print('Falsos positivos: {0}%'.format(f_positivos*100))\n",
    "print('Falsos negativos: {0}%'.format(f_negativos*100))\n",
    "\n",
    "print('Acurácia: {0}%'.format((v_positivos+v_negativos)*100))"
   ]
  },
  {
   "cell_type": "markdown",
   "metadata": {},
   "source": [
    "___\n",
    "### Concluindo"
   ]
  },
  {
   "cell_type": "code",
   "execution_count": null,
   "metadata": {},
   "outputs": [],
   "source": []
  },
  {
   "cell_type": "code",
   "execution_count": null,
   "metadata": {},
   "outputs": [],
   "source": []
  },
  {
   "cell_type": "code",
   "execution_count": null,
   "metadata": {},
   "outputs": [],
   "source": []
  },
  {
   "cell_type": "markdown",
   "metadata": {},
   "source": [
    "___\n",
    "### Qualidade do Classificador a partir de novas separações dos tweets entre Treinamento e Teste\n",
    "\n",
    "Caso for fazer esse item do Projeto"
   ]
  },
  {
   "cell_type": "code",
   "execution_count": 20,
   "metadata": {},
   "outputs": [],
   "source": [
    "#Juntando os dois dataframes:\n",
    "dados = train.append(test).reset_index()\n",
    "Tweets = []\n",
    "for tweet in train.Treinamento:\n",
    "    Tweets.append(tweet)\n",
    "    \n",
    "for tweet in test.Teste:\n",
    "    Tweets.append(tweet)\n",
    "\n",
    "dados['Tweets'] = Tweets \n",
    "dados = dados.drop(['index','Classificador','Treinamento','Teste'], axis=1)"
   ]
  },
  {
   "cell_type": "code",
   "execution_count": 21,
   "metadata": {},
   "outputs": [],
   "source": [
    "#Repetindo os items 3 a 4 para cada nova separação:\n",
    "acertos = []\n",
    "for i in range(100):\n",
    "    test = dados.sample(frac = 0.60)\n",
    "    train = dados.drop(test.index)\n",
    "\n",
    "    #Conjunto de todas as palavras:\n",
    "    todas_palavras = ' '.join(train.Tweets)\n",
    "    todas_palavras = cleanup(todas_palavras)\n",
    "    todas_palavras = todas_palavras.split()\n",
    "    serie_todas_palavras = pd.Series(todas_palavras)\n",
    "    tabela_todas_palavras = serie_todas_palavras.value_counts() #Sem normalizar os valores, para a suavização Laplace depois\n",
    "\n",
    "    #Conjunto de palavras dos Tweets relevantes:\n",
    "    relevantes = ' '.join(train.Tweets[train.Relevancia==1])\n",
    "    relevantes = cleanup(relevantes)\n",
    "    relevantes = relevantes.split()\n",
    "    serie_relevantes = pd.Series(relevantes)\n",
    "    tabela_relevantes = serie_relevantes.value_counts()\n",
    "\n",
    "    #Conjunto de palavras dos Tweets irrelevantes:\n",
    "    irrelevantes = ' '.join(train.Tweets[train.Relevancia==0])\n",
    "    irrelevantes = cleanup(irrelevantes)\n",
    "    irrelevantes = irrelevantes.split()\n",
    "    serie_irrelevantes = pd.Series(irrelevantes)\n",
    "    tabela_irrelevantes = serie_irrelevantes.value_counts()\n",
    "\n",
    "\n",
    "    for tweet in test.Tweets:\n",
    "        if classificador(tweet) == 1:\n",
    "            test.loc[test.Tweets==tweet,'Classificador'] = 1\n",
    "        else:\n",
    "            test.loc[test.Tweets==tweet,'Classificador'] = 0\n",
    "\n",
    "    v_positivos = (len(test.loc[(test.Classificador==1)&(test.Relevancia==1),:])/len(test))\n",
    "    v_negativos = (len(test.loc[(test.Classificador==0)&(test.Relevancia==0),:])/len(test))\n",
    "    acerto = v_positivos + v_negativos\n",
    "\n",
    "    acertos.append(acerto)"
   ]
  },
  {
   "cell_type": "code",
   "execution_count": 22,
   "metadata": {},
   "outputs": [
    {
     "data": {
      "image/png": "[encoded data removed]",
      "text/plain": [
       "<Figure size 432x288 with 1 Axes>"
      ]
     },
     "metadata": {
      "needs_background": "light"
     },
     "output_type": "display_data"
    }
   ],
   "source": [
    "plt.hist(acertos, color='blue', edgecolor='white', alpha = 0.4, density=True)\n",
    "plt.xlabel('Percentual de Acertos do classificador')\n",
    "plt.ylabel('Densidade')\n",
    "plt.show()"
   ]
  },
  {
   "cell_type": "markdown",
   "metadata": {},
   "source": [
    "Dependendo da distibuição dos mesmos tweets entre a base de treinamento e a base de teste, o percentual de acerto do classificador flutua  em torno de um valor médio. Ao se usar apenas uma distribuição, essa flutuação de percentual é um obstáculo para avaliar a competência do classificador."
   ]
  },
  {
   "cell_type": "markdown",
   "metadata": {},
   "source": [
    "___\n",
    "## Aperfeiçoamento:\n",
    "\n",
    "Trabalhos que conseguirem pelo menos conceito B vão evoluir em conceito dependendo da quantidade de itens avançados:\n",
    "\n",
    "* IMPLEMENTOU outras limpezas e transformações que não afetem a qualidade da informação contida nos tweets. Ex: stemming, lemmatization, stopwords\n",
    "* CORRIGIU separação de espaços entre palavras e emojis ou entre emojis e emojis\n",
    "* CRIOU categorias intermediárias de relevância baseadas na probabilidade: ex.: muito relevante, relevante, neutro, irrelevante, muito irrelevante. Pelo menos quatro categorias, com adição de mais tweets na base, conforme enunciado. (OBRIGATÓRIO PARA TRIOS, sem contar como item avançado)\n",
    "* EXPLICOU porquê não pode usar o próprio classificador para gerar mais amostras de treinamento\n",
    "* PROPÔS diferentes cenários para Naïve Bayes fora do contexto do projeto\n",
    "* SUGERIU e EXPLICOU melhorias reais com indicações concretas de como implementar (indicar como fazer e indicar material de pesquisa)\n",
    "* FEZ o item 6. Qualidade do Classificador a partir de novas separações dos tweets entre Treinamento e Teste descrito no enunciado do projeto (OBRIGATÓRIO para conceitos A ou A+)"
   ]
  },
  {
   "cell_type": "markdown",
   "metadata": {},
   "source": [
    "___\n",
    "## Referências"
   ]
  },
  {
   "cell_type": "markdown",
   "metadata": {},
   "source": [
    "[Naive Bayes and Text Classification](https://arxiv.org/pdf/1410.5329.pdf)  **Mais completo**\n",
    "\n",
    "[A practical explanation of a Naive Bayes Classifier](https://monkeylearn.com/blog/practical-explanation-naive-bayes-classifier/) **Mais simples**"
   ]
  },
  {
   "cell_type": "code",
   "execution_count": null,
   "metadata": {},
   "outputs": [],
   "source": []
  }
 ],
 "metadata": {
  "kernelspec": {
   "display_name": "Python 3",
   "language": "python",
   "name": "python3"
  },
  "language_info": {
   "codemirror_mode": {
    "name": "ipython",
    "version": 3
   },
   "file_extension": ".py",
   "mimetype": "text/x-python",
   "name": "python",
   "nbconvert_exporter": "python",
   "pygments_lexer": "ipython3",
   "version": "3.8.5"
  }
 },
 "nbformat": 4,
 "nbformat_minor": 4
}
